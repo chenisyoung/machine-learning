{
 "cells": [
  {
   "cell_type": "code",
   "execution_count": 1,
   "metadata": {},
   "outputs": [],
   "source": [
    "# 实现一个单变量梯度下降的类"
   ]
  },
  {
   "cell_type": "code",
   "execution_count": 4,
   "metadata": {},
   "outputs": [],
   "source": [
    "import numpy as np"
   ]
  },
  {
   "cell_type": "code",
   "execution_count": 12,
   "metadata": {},
   "outputs": [],
   "source": [
    "class singleRegression:\n",
    "    def __init__(self, alpha=0.1, maxIterations=5000, jingquedu=0.001):\n",
    "        '''\n",
    "        初始化一个单变量线性回归模型\n",
    "        Params:\n",
    "            alpha - 步长\n",
    "            maxIterations - 最大迭代次数\n",
    "            jingquedu - 满足精度后不再迭代\n",
    "        '''\n",
    "        self.alpha=alpha\n",
    "        self.maxIterations=maxIterations\n",
    "        self.jd = jingquedu\n",
    "        self.costs = []    # 初始化一个代价列表\n",
    "    \n",
    "    def hyt(self, t1, t2):    # hypothesis 由参数计算出结果的函数, 使用列表表达式\n",
    "        ret = np.array([x + t1 for x in np.zeros(self.length)]) + np.array([t2 * x for x in self.data[0]])\n",
    "        # ndarray 的相加为每个数据相加, 因此能够得到 结果向量\n",
    "        return ret\n",
    "        theta1 = [x + t1 for x in np.zeros(self.length)]    # \\theta1 对应的计算结果\n",
    "    \n",
    "    def cost(self, t1, t2):\n",
    "        '''\n",
    "        求当前t1, t2 损失函数的值\n",
    "        '''\n",
    "        ht = self.hyt(t1, t2)    # 结果向量\n",
    "        j = np.power(([ht - self.data[1]]), 2) # 与数据中取出的标签作运算\n",
    "        return j.sum()/(2 * len(ht))\n",
    "        \n",
    "    def partial(self, isZero, t1, t2):\n",
    "        '''\n",
    "        求偏导数, 返回偏导值 /m 的向量\n",
    "        '''\n",
    "        cha = self.hyt(t1, t2) - self.data[1]\n",
    "        # theta0 和其他的 theta计算有差别, 因为本算法没有添加 变量为1 的数据列因此需要区别对待\n",
    "        if isZero:\n",
    "            return cha.sum()/self.length\n",
    "        cha = x1 * self.data[0]\n",
    "        return cha.sum() / self.length\n",
    "        \n",
    "    def fit(self, data):\n",
    "        '''\n",
    "        使用参数训练模型\n",
    "        Params:\n",
    "            - data 为(2, x)的ndarray, 第一列是数据第二列是标签\n",
    "        '''\n",
    "        self.costs = []\n",
    "        self.data = data\n",
    "        self.length = len(data[0])\n",
    "        if data.shape[0] != 2:\n",
    "            raise Exception(\"数据类型不正确!\")\n",
    "        # 初始化两个参数为0\n",
    "        t1 = 0\n",
    "        t2 = 0\n",
    "        for i in range(self.maxIterations):\n",
    "            tt1 = t1 - self.alpha * self.partial(True, t1, t2)\n",
    "            tt2 = t2 - self.alpha * self.partial(False, t1, t2)\n",
    "            t1 = tt1\n",
    "            t2 = tt2\n",
    "            costt = self.cost(t1, t2)\n",
    "            if len(self.costs) == 0:\n",
    "                # 如果不是0长度,则说明不是第一次迭代\n",
    "                if costt = self.costs[-1]:\n",
    "                    \n",
    "                    break\n",
    "            self.costs.append(costt)    # 保存损失值, 以便作图\n",
    "            if costt <= self.jd:        # 如果满足精度, 则退出\n",
    "                break\n",
    "        self.t1 = t1\n",
    "        self.t2 = t2\n",
    "        \n",
    "    def predict(self, data):\n",
    "        return [x + self.t1 for x in np.zeros(len(data))] + self.t2 * np.array(data)"
   ]
  },
  {
   "cell_type": "code",
   "execution_count": 13,
   "metadata": {},
   "outputs": [
    {
     "name": "stdout",
     "output_type": "stream",
     "text": [
      "testdata = [1, 3, 5, 7, 9]\n",
      "预测值为: [20.92458031 26.98236615 33.04015199 39.09793784 45.15572368]\n",
      "\n",
      "\n",
      "损失值如下:\n"
     ]
    },
    {
     "data": {
      "image/png": "[encoded data removed]",
      "text/plain": [
       "<Figure size 432x288 with 1 Axes>"
      ]
     },
     "metadata": {},
     "output_type": "display_data"
    }
   ],
   "source": [
    "if __name__ == 'main' or True:\n",
    "    import matplotlib.pyplot as plt\n",
    "    sr = singleRegression()\n",
    "    d1 = np.array([1, 2, 3, 4, 5])\n",
    "    d2 = d1 * 3 + 18\n",
    "    datas = np.array([d1, d2])   # 伪造一个数据\n",
    "    sr.fit(datas)\n",
    "    testdata = [1, 3, 5, 7, 9]\n",
    "    print('testdata = [1, 3, 5, 7, 9]')\n",
    "    print('预测值为:',sr.predict(testdata))\n",
    "    print('\\n')\n",
    "    print('损失值如下:')\n",
    "    plt.plot(np.arange(0, len(sr.costs), 1), sr.costs)"
   ]
  },
  {
   "cell_type": "code",
   "execution_count": 76,
   "metadata": {},
   "outputs": [],
   "source": [
    "# 时间 2019/9/8 13:19"
   ]
  },
  {
   "cell_type": "code",
   "execution_count": 14,
   "metadata": {},
   "outputs": [
    {
     "data": {
      "text/plain": [
       "array([ 2, 24])"
      ]
     },
     "execution_count": 14,
     "metadata": {},
     "output_type": "execute_result"
    }
   ],
   "source": [
    "# datas[:,1] ndarray取出列是这么取的"
   ]
  },
  {
   "cell_type": "code",
   "execution_count": null,
   "metadata": {},
   "outputs": [],
   "source": []
  }
 ],
 "metadata": {
  "kernelspec": {
   "display_name": "Python 3",
   "language": "python",
   "name": "python3"
  },
  "language_info": {
   "codemirror_mode": {
    "name": "ipython",
    "version": 3
   },
   "file_extension": ".py",
   "mimetype": "text/x-python",
   "name": "python",
   "nbconvert_exporter": "python",
   "pygments_lexer": "ipython3",
   "version": "3.6.5"
  }
 },
 "nbformat": 4,
 "nbformat_minor": 2
}
