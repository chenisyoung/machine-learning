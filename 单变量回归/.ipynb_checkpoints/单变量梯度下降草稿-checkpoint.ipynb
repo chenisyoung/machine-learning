{
 "cells": [
  {
   "cell_type": "code",
   "execution_count": 1,
   "metadata": {},
   "outputs": [],
   "source": [
    "import numpy as np"
   ]
  },
  {
   "cell_type": "code",
   "execution_count": 2,
   "metadata": {},
   "outputs": [],
   "source": [
    "# 尝试使用 numpy 手写一个梯度下降法, 首先是单特征, y = ax + b"
   ]
  },
  {
   "cell_type": "code",
   "execution_count": 3,
   "metadata": {},
   "outputs": [],
   "source": [
    "# 代价函数定义为 1\\1m(预期与数据的差的平方和)\n",
    "# 此实现中 内部函数不使用列表, 必须全部是 ndarray才行"
   ]
  },
  {
   "cell_type": "code",
   "execution_count": 4,
   "metadata": {},
   "outputs": [],
   "source": [
    "def hyt(data, t1, t2):\n",
    "    lenth = data.shape[1]   # 获取到数据个数\n",
    "    return np.array([x + t1 for x in np.zeros(lenth)]) + np.array([t2 * x for x in data[:][0]])"
   ]
  },
  {
   "cell_type": "code",
   "execution_count": 5,
   "metadata": {},
   "outputs": [],
   "source": [
    "# 代价函数\n",
    "def cost(data, t1, t2):\n",
    "    ht = hyt(data, t1, t2) # 预估结果的数组\n",
    "    j = np.power(([ht - data[:][1]]), 2)\n",
    "    # print(type(j))\n",
    "    return j.sum()/(2 * len(ht))"
   ]
  },
  {
   "cell_type": "code",
   "execution_count": 6,
   "metadata": {},
   "outputs": [],
   "source": [
    "# 求偏导值函数\n",
    "def partial(data, t, t1, t2):    \n",
    "    cha = hyt(data, t1, t2) - data[:][1]    # 求出 求和符号内部公共的部分\n",
    "    if t == 0:\n",
    "        return cha.sum()/len(data[0])\n",
    "    else:\n",
    "        xj = data[0]\n",
    "        cha = cha * xj\n",
    "        return cha.sum()/len(data[0])"
   ]
  },
  {
   "cell_type": "code",
   "execution_count": 7,
   "metadata": {},
   "outputs": [],
   "source": [
    "def fit(data, speed=0.001, maxtimes=50000):\n",
    "    \n",
    "    if data.shape[0] != 2:\n",
    "        raise Exception(\"数据类型不正确!\")\n",
    "    t1 = 0\n",
    "    t2 = 0\n",
    "    for i in range(maxtimes):\n",
    "        tt1 = t1 - speed * partial(data, 0, t1, t2)   # 写成类之后就只需要传递一个参数了\n",
    "        # print(t1)\n",
    "        tt2 = t2 - speed * partial(data, 1, t1, t2)   # 此处需要同步更新\n",
    "        t1 = tt1\n",
    "        t2 = tt2\n",
    "        cos = cost(data, t1, t2)\n",
    "        li.append(cos)\n",
    "        if cos < 0.001:\n",
    "            break\n",
    "    return t1, t2    # 先这么弄, 之后考虑写成一个类"
   ]
  },
  {
   "cell_type": "code",
   "execution_count": 8,
   "metadata": {},
   "outputs": [],
   "source": [
    "d1 = [1, 2 ,3 ,4 ,5]\n",
    "d2 = [x * 2 + 1 for x in d1]"
   ]
  },
  {
   "cell_type": "code",
   "execution_count": 9,
   "metadata": {},
   "outputs": [],
   "source": [
    "data = np.array([d1, d2])    # 得到一个虚假的 y = 2x + 1"
   ]
  },
  {
   "cell_type": "code",
   "execution_count": 10,
   "metadata": {},
   "outputs": [],
   "source": [
    "li = [] # 临时添加cost作画图用"
   ]
  },
  {
   "cell_type": "code",
   "execution_count": 11,
   "metadata": {},
   "outputs": [],
   "source": [
    "c1, c2 = fit(data, 0.0001, 50000)"
   ]
  },
  {
   "cell_type": "code",
   "execution_count": 12,
   "metadata": {},
   "outputs": [
    {
     "data": {
      "text/plain": [
       "0.0028802942554979655"
      ]
     },
     "execution_count": 12,
     "metadata": {},
     "output_type": "execute_result"
    }
   ],
   "source": [
    "cost(data,c1, c2)"
   ]
  },
  {
   "cell_type": "code",
   "execution_count": 13,
   "metadata": {},
   "outputs": [
    {
     "data": {
      "text/plain": [
       "0.8220996265523238"
      ]
     },
     "execution_count": 13,
     "metadata": {},
     "output_type": "execute_result"
    }
   ],
   "source": [
    "c1"
   ]
  },
  {
   "cell_type": "code",
   "execution_count": 14,
   "metadata": {},
   "outputs": [
    {
     "data": {
      "text/plain": [
       "2.049275550803345"
      ]
     },
     "execution_count": 14,
     "metadata": {},
     "output_type": "execute_result"
    }
   ],
   "source": [
    "c2"
   ]
  },
  {
   "cell_type": "code",
   "execution_count": 15,
   "metadata": {},
   "outputs": [],
   "source": [
    "data1 = np.array([1, 2, 3, 4, 5])\n",
    "data2 = data1 * 3 + 18"
   ]
  },
  {
   "cell_type": "code",
   "execution_count": 16,
   "metadata": {},
   "outputs": [],
   "source": [
    "aa = np.array([data1, data2])\n",
    "re1, re2 = fit(aa, 0.001, 50000)"
   ]
  },
  {
   "cell_type": "code",
   "execution_count": 17,
   "metadata": {},
   "outputs": [
    {
     "data": {
      "text/plain": [
       "0.0009999262117786636"
      ]
     },
     "execution_count": 17,
     "metadata": {},
     "output_type": "execute_result"
    }
   ],
   "source": [
    "cost(aa, re1, re2)"
   ]
  },
  {
   "cell_type": "code",
   "execution_count": 18,
   "metadata": {},
   "outputs": [
    {
     "data": {
      "text/plain": [
       "17.895180421948353"
      ]
     },
     "execution_count": 18,
     "metadata": {},
     "output_type": "execute_result"
    }
   ],
   "source": [
    "re1"
   ]
  },
  {
   "cell_type": "code",
   "execution_count": 19,
   "metadata": {},
   "outputs": [
    {
     "data": {
      "text/plain": [
       "3.029033342332969"
      ]
     },
     "execution_count": 19,
     "metadata": {},
     "output_type": "execute_result"
    }
   ],
   "source": [
    "re2"
   ]
  },
  {
   "cell_type": "code",
   "execution_count": 20,
   "metadata": {},
   "outputs": [],
   "source": [
    "## 效果还行, 有时间弄成一个类看着会顺眼得多"
   ]
  },
  {
   "cell_type": "code",
   "execution_count": 341,
   "metadata": {},
   "outputs": [],
   "source": [
    "# 时间: 2019/9/8  12:21"
   ]
  },
  {
   "cell_type": "code",
   "execution_count": null,
   "metadata": {},
   "outputs": [],
   "source": []
  },
  {
   "cell_type": "code",
   "execution_count": null,
   "metadata": {},
   "outputs": [],
   "source": []
  }
 ],
 "metadata": {
  "kernelspec": {
   "display_name": "Python 3",
   "language": "python",
   "name": "python3"
  },
  "language_info": {
   "codemirror_mode": {
    "name": "ipython",
    "version": 3
   },
   "file_extension": ".py",
   "mimetype": "text/x-python",
   "name": "python",
   "nbconvert_exporter": "python",
   "pygments_lexer": "ipython3",
   "version": "3.6.5"
  }
 },
 "nbformat": 4,
 "nbformat_minor": 2
}
