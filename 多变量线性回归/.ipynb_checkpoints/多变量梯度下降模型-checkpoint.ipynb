{
 "cells": [
  {
   "cell_type": "code",
   "execution_count": 9,
   "metadata": {},
   "outputs": [],
   "source": [
    "# 实现一个多变量梯度下降模型\n",
    "# numpy的 dot 方法, 在第二个参数为行向量时自动将其当做单列向量处理(可能需要维度刚好匹配时才会自动转换, 不清楚内部实现因此仍手动转换维度\n",
    "# 在内部可使用行向量表示theta需要时再变换, 此处使用列向量可能有空间占用问题?(不太清楚numpy的机制)\n",
    "import numpy as np"
   ]
  },
  {
   "cell_type": "code",
   "execution_count": 1,
   "metadata": {},
   "outputs": [],
   "source": [
    "class GDregression:\n",
    "    def __init__(self, alpha=0.001, maxIterations=5000, jd=0.001, mul=1):\n",
    "        '''\n",
    "        初始化一个GDregression\n",
    "        Params:\n",
    "            # feathreal_nums - 特征数 \n",
    "            alpha - 学习速率\n",
    "            maxIterations - 最大迭代次数\n",
    "            jd - 需求精确度\n",
    "            mul - 多项式, 待定功能\n",
    "        '''\n",
    "        # self.featureal_nums=featureal_nums\n",
    "        self.alpha = alpha\n",
    "        self.maxIterations = maxIterations\n",
    "        self.jd = jd\n",
    "        self.mul = mul\n",
    "        self._costs = []\n",
    "        \n",
    "    def _hypothesis(self,ts):\n",
    "        '''\n",
    "        使用参数列表来计算该参数对数据的预测结果\n",
    "        Params:\n",
    "            ts - 参数, 为2维数组但是每一行只能有一个值, 即类似行向量的转置, 不过ndarray 单行向量转置不会转置为二维\\\n",
    "            需要声明的时候为[[x1, x2, ...xn]]才能够进行转置\n",
    "        '''\n",
    "        # 使用添加了 值为1 的列 的数据集\n",
    "        ret = np.dot(self._data_fill_1, ts)\n",
    "        return ret   # 返回 一列 ndarray 数组 二维数组\n",
    "        \n",
    "    def _fill_1(self, data):\n",
    "        # 返回添加一列 1 后的特征\n",
    "        return np.concatenate([np.ones(data.shape[0]).reshape(data.shape[0], 1), data], axis=1)\n",
    "    \n",
    "    def _cost(self,ts):\n",
    "        t = self._hypothesis(ts)\n",
    "        t = t.reshape(t.shape[0],)\n",
    "        return np.power((t - self._features), 2).sum()/2/self._data_nums\n",
    "        #return np.power((self._hypothesis(t1, t2) - self._features), 2).sum()/2/self._data_nums\n",
    "    \n",
    "    def fit(self, data, features):\n",
    "        \"\"\"\n",
    "            Params:\n",
    "                data - 训练集, 需要为二维ndarray\n",
    "                features - 标签, 需要为一维ndarray\n",
    "        \"\"\"\n",
    "        self._data = data\n",
    "        # 下面这条语句需要先判断data是二维数组才行\n",
    "        self._x, self._y = data.shape\n",
    "        self._feathres_nums = len(data[0])    # 获取特征数目    \n",
    "        self._data_nums = data.shape[0]      # 获得数据条数\n",
    "        self._data_fill_1 = self._fill_1(data)     # 补充一列1\n",
    "        self._features = features \n",
    "        self._ts = np.zeros((self._feathres_nums + 1, 1))   # 初始化参数数组全为0 得到一个二维数组表示列数组\n",
    "        # print(self._ts)\n",
    "        self._costs.clear()\n",
    "        ts = self._ts\n",
    "        for i in range(self.maxIterations):\n",
    "        #for i in range(2): 小循环测试用\n",
    "            tp = self._hypothesis(ts)    # 得到预测结果向量\n",
    "            tp = tp.reshape(tp.shape[0], )    # 将单列二维向量转变为行向量好与特征做运算\n",
    "            \n",
    "            # 以下为对应偏导公式\n",
    "            ch = tp - self._features        # 预测结果与特征的差向量\n",
    "            ch.reshape(ch.shape[0], 1)\n",
    "            dot = np.dot(self._data_fill_1.T, ch)    # 二维(data_nums, features)数据, 得到参数加1行\n",
    "            sumof = self.alpha * dot\n",
    "            sumof = sumof.reshape(self._feathres_nums+1, 1) / self._feathres_nums  # 转换为列向量 与theta做运算\n",
    "            \n",
    "            tts = ts - sumof \n",
    "            ts = tts\n",
    "            cc = self._cost(ts)\n",
    "            self._ts = ts\n",
    "            if len(self._costs) == 0:\n",
    "                pass\n",
    "            else:\n",
    "                if cc == self._costs[-1]:\n",
    "                    break\n",
    "            self._costs.append(cc)    # 存入损失值\n",
    "            if cc <= self.jd:\n",
    "                break\n",
    "        \n",
    "    \n",
    "    def predict(self, data):\n",
    "        data = self._fill_1(data)    # 填充 \"1\" 列\n",
    "        ret = np.dot(data, self._ts)\n",
    "        ret = np.array([sum(x) for x in ret])\n",
    "        return ret   # 返回 一列 ndarray 数组"
   ]
  },
  {
   "cell_type": "code",
   "execution_count": 95,
   "metadata": {},
   "outputs": [
    {
     "name": "stdout",
     "output_type": "stream",
     "text": [
      "testdata = [[1], [3], [5]]\n",
      "预测值为: [20.831888   26.9606938  33.08949959]\n",
      "\n",
      "\n",
      "估计的参数为: \n",
      " [[17.7674851]\n",
      " [ 3.0644029]]\n",
      "\n",
      "\n",
      "损失值如下:\n"
     ]
    },
    {
     "data": {
      "text/plain": [
       "[<matplotlib.lines.Line2D at 0x277931eb160>]"
      ]
     },
     "execution_count": 95,
     "metadata": {},
     "output_type": "execute_result"
    },
    {
     "data": {
      "image/png": "[encoded data removed]",
      "text/plain": [
       "<Figure size 432x288 with 1 Axes>"
      ]
     },
     "metadata": {},
     "output_type": "display_data"
    }
   ],
   "source": [
    "import matplotlib.pyplot as plt\n",
    "sr = GDregression()\n",
    "d1 = np.array([[1], [2], [3], [4], [5]])\n",
    "d2 = np.array([1, 2, 3, 4, 5]) * 3 + 18\n",
    " # 伪造一个数据\n",
    "sr.fit(d1, d2)\n",
    "testdata = np.array([[1], [3], [5]])\n",
    "print('testdata = [[1], [3], [5]]')\n",
    "print('预测值为:',sr.predict(testdata))\n",
    "print('\\n')\n",
    "print('估计的参数为: \\n',sr._ts)\n",
    "print('\\n')\n",
    "print('损失值如下:')\n",
    "plt.plot(np.arange(0, len(sr._costs), 1), sr._costs)"
   ]
  },
  {
   "cell_type": "code",
   "execution_count": 123,
   "metadata": {},
   "outputs": [],
   "source": [
    "d1 = np.array([1, 2])\n",
    "d2 = np.array([2, 2])\n",
    "d3 = np.array([4, 8])\n",
    "d4 = np.array([2, 1])\n",
    "data = np.array([d1, d2, d3, d4])\n",
    "fea = np.array([9, 11, 33, 8])   # 制作一个 y = 2x_0 + 3x_1 + 1 的数据集"
   ]
  },
  {
   "cell_type": "code",
   "execution_count": 124,
   "metadata": {},
   "outputs": [
    {
     "name": "stderr",
     "output_type": "stream",
     "text": [
      "C:\\ProgramData\\Anaconda3\\lib\\site-packages\\sklearn\\utils\\validation.py:475: DataConversionWarning: Data with input dtype int32 was converted to float64 by StandardScaler.\n",
      "  warnings.warn(msg, DataConversionWarning)\n"
     ]
    }
   ],
   "source": [
    "# from sklearn.preprocessing import StandardScaler\n",
    "# std = StandardScaler()\n",
    "# data = std.fit_transform(data)  做了特征缩放之后得到的参数值会不一样"
   ]
  },
  {
   "cell_type": "code",
   "execution_count": 125,
   "metadata": {},
   "outputs": [],
   "source": [
    "s2 = GDregression(jd=0.01)\n",
    "s2.fit(data, fea)"
   ]
  },
  {
   "cell_type": "code",
   "execution_count": 126,
   "metadata": {},
   "outputs": [
    {
     "name": "stdout",
     "output_type": "stream",
     "text": [
      "[[15.24931455]\n",
      " [ 3.19574382]\n",
      " [ 7.30160797]]\n",
      "损失值如下:\n"
     ]
    },
    {
     "data": {
      "text/plain": [
       "[<matplotlib.lines.Line2D at 0x277944bab38>]"
      ]
     },
     "execution_count": 126,
     "metadata": {},
     "output_type": "execute_result"
    },
    {
     "data": {
      "image/png": "[encoded data removed]",
      "text/plain": [
       "<Figure size 432x288 with 1 Axes>"
      ]
     },
     "metadata": {},
     "output_type": "display_data"
    }
   ],
   "source": [
    "print(s2._ts)    # 哈哈hhhh效果还行\n",
    "print('损失值如下:')\n",
    "plt.plot(np.arange(0, len(s2._costs), 1), s2._costs)"
   ]
  },
  {
   "cell_type": "code",
   "execution_count": 127,
   "metadata": {},
   "outputs": [
    {
     "data": {
      "text/plain": [
       "5000"
      ]
     },
     "execution_count": 127,
     "metadata": {},
     "output_type": "execute_result"
    }
   ],
   "source": [
    "len(s2._costs)"
   ]
  },
  {
   "cell_type": "code",
   "execution_count": 128,
   "metadata": {},
   "outputs": [
    {
     "data": {
      "text/plain": [
       "array([[15.24931455],\n",
       "       [ 3.19574382],\n",
       "       [ 7.30160797]])"
      ]
     },
     "execution_count": 128,
     "metadata": {},
     "output_type": "execute_result"
    }
   ],
   "source": [
    "s2._ts  # 还是有出入 但是很不错了hhh"
   ]
  },
  {
   "cell_type": "code",
   "execution_count": 121,
   "metadata": {},
   "outputs": [],
   "source": [
    "# 没有做特征缩放"
   ]
  },
  {
   "cell_type": "code",
   "execution_count": 122,
   "metadata": {},
   "outputs": [],
   "source": [
    "# 时间 2019年9月8日19:06:18"
   ]
  }
 ],
 "metadata": {
  "kernelspec": {
   "display_name": "Python 3",
   "language": "python",
   "name": "python3"
  },
  "language_info": {
   "codemirror_mode": {
    "name": "ipython",
    "version": 3
   },
   "file_extension": ".py",
   "mimetype": "text/x-python",
   "name": "python",
   "nbconvert_exporter": "python",
   "pygments_lexer": "ipython3",
   "version": "3.6.5"
  }
 },
 "nbformat": 4,
 "nbformat_minor": 2
}
