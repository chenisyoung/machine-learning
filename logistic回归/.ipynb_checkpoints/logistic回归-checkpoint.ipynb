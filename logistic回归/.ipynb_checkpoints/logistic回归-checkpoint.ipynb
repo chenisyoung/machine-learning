{
 "cells": [
  {
   "cell_type": "code",
   "execution_count": 1,
   "metadata": {},
   "outputs": [],
   "source": [
    "import numpy as np\n",
    "# logistic 模型, 解决二分类问题\n",
    "# 由于梯度类似回归, 因此实际上只需要对h(θ)做sigmoid处理即可"
   ]
  },
  {
   "cell_type": "code",
   "execution_count": 117,
   "metadata": {},
   "outputs": [],
   "source": [
    "class logisticRegression:\n",
    "    def __init__(self, alpha=0.001, maxIterations=5000, jd=0.001, mul=1):\n",
    "        '''\n",
    "        初始化一个GDregression\n",
    "        Params:\n",
    "            # feathreal_nums - 特征数 \n",
    "            alpha - 学习速率\n",
    "            maxIterations - 最大迭代次数\n",
    "            jd - 需求精确度\n",
    "            mul - 多项式, 待定功能\n",
    "        '''\n",
    "        # self.featureal_nums=featureal_nums\n",
    "        self.alpha = alpha\n",
    "        self.maxIterations = maxIterations\n",
    "        self.jd = jd\n",
    "        self.mul = mul\n",
    "        self._costs = []\n",
    "        \n",
    "    def _sigmoid(self, input):\n",
    "        # sigmoid函数 即 h(\\theta)\n",
    "        # 适用于 ndarray类型\n",
    "        t = np.exp(-input)\n",
    "        return 1 / (1 + t)\n",
    "\n",
    "    def _hypothesis(self, ts, data):\n",
    "        '''\n",
    "        使用参数列表来计算该参数对数据的预测结果\n",
    "        Params:\n",
    "            ts - 参数, 为2维数组但是每一行只能有一个值, 即类似行向量的转置, 不过ndarray 单行向量转置不会转置为二维\\\n",
    "            需要声明的时候为[[x1, x2, ...xn]]才能够进行转置\n",
    "        '''\n",
    "        # 使用添加了 值为1 的列 的数据集\n",
    "        ret = np.dot(data, ts)\n",
    "        ret = self._sigmoid(ret)\n",
    "        return ret   # 返回 一列 ndarray 数组 二维数组\n",
    "        \n",
    "    def _fill_1(self, data):\n",
    "        # 返回添加一列 1 后的特征\n",
    "        return np.concatenate([np.ones(data.shape[0]).reshape(data.shape[0], 1), data], axis=1)\n",
    "    \n",
    "    def _cost(self,ts):\n",
    "        t = self._hypothesis(ts, self._data_fill_1)\n",
    "        t = t.reshape(t.shape[0],)\n",
    "        return np.power((t - self._features), 2).sum()/2/self._data_nums\n",
    "        #return np.power((self._hypothesis(t1, t2) - self._features), 2).sum()/2/self._data_nums\n",
    "    \n",
    "    def fit(self, data, features):\n",
    "        \"\"\"\n",
    "            Params:\n",
    "                data - 训练集, 需要为二维ndarray\n",
    "                features - 标签, 需要为一维ndarray, 且为0,1值\n",
    "        \"\"\"\n",
    "        self._data = data\n",
    "        # 下面这条语句需要先判断data是二维数组才行\n",
    "        self._x, self._y = data.shape\n",
    "        self._feathres_nums = len(data[0])    # 获取特征数目    \n",
    "        self._data_nums = data.shape[0]      # 获得数据条数\n",
    "        self._data_fill_1 = self._fill_1(data)     # 补充一列1\n",
    "        self._features = features \n",
    "        self._ts = np.zeros((self._feathres_nums + 1, 1))   # 初始化参数数组全为0 得到一个二维数组表示列数组\n",
    "        self._ts += 0.5    # 二分类不能初始化为0\n",
    "        # print(self._ts)\n",
    "        self._costs.clear()\n",
    "        ts = self._ts\n",
    "        for i in range(self.maxIterations):\n",
    "        #for i in range(2): 小循环测试用\n",
    "            tp = self._hypothesis(ts, data=self._data_fill_1)    # 得到预测结果向量\n",
    "            tp = tp.reshape(tp.shape[0], )    # 将单列二维向量转变为行向量好与特征做运算\n",
    "            \n",
    "            # 以下为对应偏导公式\n",
    "            ch = tp - self._features        # 预测结果与特征的差向量\n",
    "            ch.reshape(ch.shape[0], 1)\n",
    "            dot = np.dot(self._data_fill_1.T, ch)    # 二维(data_nums, features)数据, 得到参数加1行\n",
    "            sumof = self.alpha * dot\n",
    "            sumof = sumof.reshape(self._feathres_nums+1, 1) / self._feathres_nums  # 转换为列向量 与theta做运算\n",
    "            \n",
    "            tts = ts - sumof \n",
    "            ts = tts\n",
    "            cc = self._cost(ts)\n",
    "            self._ts = ts\n",
    "            if len(self._costs) == 0:\n",
    "                pass\n",
    "            else:\n",
    "                if cc == self._costs[-1]:\n",
    "                    break\n",
    "            self._costs.append(cc)    # 存入损失值\n",
    "            if cc <= self.jd:\n",
    "                break\n",
    "        \n",
    "    \n",
    "    def predict(self, data):\n",
    "        data = self._fill_1(data)    # 填充 \"1\" 列\n",
    "        # ret = np.dot(data, self._ts)\n",
    "        # ret = np.array([sum(x) for x in ret])\n",
    "        return self._hypothesis(ts=self._ts, data=data)   # 返回 一列 ndarray 数组"
   ]
  },
  {
   "cell_type": "code",
   "execution_count": 129,
   "metadata": {},
   "outputs": [],
   "source": [
    "def getlabels(x1, x2):\n",
    "    labels = []\n",
    "    if len(x1) != len(x2):\n",
    "        raise TypeError('数组应该维度一致')\n",
    "    for i in range(len(x1)):\n",
    "        if x1[i] + x2[i] > 3:\n",
    "            labels.append(0)\n",
    "        else:\n",
    "            labels.append(1)\n",
    "    return labels"
   ]
  },
  {
   "cell_type": "code",
   "execution_count": 167,
   "metadata": {},
   "outputs": [],
   "source": [
    "# 制作一个 x1 + x2 < 3 的 数据集\n",
    "x1s = np.random.rand(50) * 3\n",
    "x2s = np.random.rand(50) * 3\n",
    "labels = getlabels(x1s, x2s)"
   ]
  },
  {
   "cell_type": "code",
   "execution_count": 168,
   "metadata": {},
   "outputs": [],
   "source": [
    "lr = logisticRegression(maxIterations=50000)"
   ]
  },
  {
   "cell_type": "code",
   "execution_count": 169,
   "metadata": {},
   "outputs": [],
   "source": [
    "datas = np.array([x1s, x2s]).T"
   ]
  },
  {
   "cell_type": "code",
   "execution_count": 170,
   "metadata": {},
   "outputs": [],
   "source": [
    "lr.fit(datas, labels)"
   ]
  },
  {
   "cell_type": "code",
   "execution_count": 171,
   "metadata": {},
   "outputs": [
    {
     "data": {
      "text/plain": [
       "array([[15.8235711 ],\n",
       "       [-4.94042419],\n",
       "       [-6.10634213]])"
      ]
     },
     "execution_count": 171,
     "metadata": {},
     "output_type": "execute_result"
    }
   ],
   "source": [
    "lr._ts"
   ]
  },
  {
   "cell_type": "code",
   "execution_count": 172,
   "metadata": {},
   "outputs": [],
   "source": [
    "x1 = np.random.rand(10)\n",
    "x2 = np.random.rand(10)\n",
    "da = (x1 + x2).reshape(5,2)"
   ]
  },
  {
   "cell_type": "code",
   "execution_count": 173,
   "metadata": {},
   "outputs": [
    {
     "data": {
      "text/plain": [
       "array([[0.99403221],\n",
       "       [0.99986283],\n",
       "       [0.88779004],\n",
       "       [0.99573155],\n",
       "       [0.99810755]])"
      ]
     },
     "execution_count": 173,
     "metadata": {},
     "output_type": "execute_result"
    }
   ],
   "source": [
    "lr.predict(da)"
   ]
  },
  {
   "cell_type": "code",
   "execution_count": 174,
   "metadata": {},
   "outputs": [],
   "source": [
    "import matplotlib.pyplot as plt"
   ]
  },
  {
   "cell_type": "code",
   "execution_count": 175,
   "metadata": {},
   "outputs": [],
   "source": [
    "class1_1 = []\n",
    "class1_2 = []\n",
    "class2_1 = []\n",
    "class2_2 = []\n",
    "for _ in range(len(labels)):\n",
    "    if labels[_]:    # 如果label为1\n",
    "        class1_1.append(x1s[_])\n",
    "        class1_2.append(x2s[_])\n",
    "    else:\n",
    "        class2_1.append(x1s[_])\n",
    "        class2_2.append(x2s[_])"
   ]
  },
  {
   "cell_type": "code",
   "execution_count": 176,
   "metadata": {},
   "outputs": [
    {
     "data": {
      "text/plain": [
       "[<matplotlib.lines.Line2D at 0x2a5422b9e48>]"
      ]
     },
     "execution_count": 176,
     "metadata": {},
     "output_type": "execute_result"
    },
    {
     "data": {
      "image/png": "[encoded data removed]",
      "text/plain": [
       "<Figure size 432x288 with 1 Axes>"
      ]
     },
     "metadata": {},
     "output_type": "display_data"
    }
   ],
   "source": [
    "plt.scatter(class1_1, class1_2)\n",
    "plt.scatter(class2_1, class2_2)\n",
    "xli = np.array([0, 1, 2, 3])\n",
    "yli = xli * lr._ts[1] + xli * lr._ts[2] + lr._ts[0]\n",
    "plt.plot(xli, yli)\n",
    "# plt.plot(xli, xli*(-1)+3)"
   ]
  },
  {
   "cell_type": "code",
   "execution_count": 177,
   "metadata": {},
   "outputs": [],
   "source": [
    "# 感觉应该是数据集的问题, 图像画出来不是很好看"
   ]
  },
  {
   "cell_type": "code",
   "execution_count": 178,
   "metadata": {},
   "outputs": [
    {
     "data": {
      "text/plain": [
       "50000"
      ]
     },
     "execution_count": 178,
     "metadata": {},
     "output_type": "execute_result"
    }
   ],
   "source": [
    "len(lr._costs)"
   ]
  },
  {
   "cell_type": "code",
   "execution_count": 179,
   "metadata": {},
   "outputs": [
    {
     "data": {
      "text/plain": [
       "0.008300664021606332"
      ]
     },
     "execution_count": 179,
     "metadata": {},
     "output_type": "execute_result"
    }
   ],
   "source": [
    "lr._costs[-1]"
   ]
  },
  {
   "cell_type": "code",
   "execution_count": null,
   "metadata": {},
   "outputs": [],
   "source": [
    "# 2019年9月19日18:31:53"
   ]
  }
 ],
 "metadata": {
  "kernelspec": {
   "display_name": "Python 3",
   "language": "python",
   "name": "python3"
  },
  "language_info": {
   "codemirror_mode": {
    "name": "ipython",
    "version": 3
   },
   "file_extension": ".py",
   "mimetype": "text/x-python",
   "name": "python",
   "nbconvert_exporter": "python",
   "pygments_lexer": "ipython3",
   "version": "3.6.5"
  }
 },
 "nbformat": 4,
 "nbformat_minor": 2
}
